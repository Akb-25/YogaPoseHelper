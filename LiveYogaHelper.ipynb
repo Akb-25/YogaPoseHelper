{
 "cells": [
  {
   "cell_type": "code",
   "execution_count": null,
   "metadata": {},
   "outputs": [],
   "source": [
    "import mediapipe as mp\n",
    "import cv2\n",
    "import pandas as pd\n",
    "import numpy as np\n",
    "import csv\n",
    "\n",
    "from app.core.PoseHelper import PoseHelper"
   ]
  },
  {
   "cell_type": "code",
   "execution_count": null,
   "metadata": {},
   "outputs": [],
   "source": [
    "mp_drawing = mp.solutions.drawing_utils\n",
    "mp_pose = mp.solutions.pose\n",
    "pose = mp_pose.Pose(\n",
    "    static_image_mode=True, min_detection_confidence=0.3, model_complexity=2\n",
    ")\n",
    "\n",
    "ideal = PoseHelper('app/media/gay_man.jpg')\n",
    "my_pose = PoseHelper('app/media/straight_man.png')\n",
    "ideal.display_img([5,5],\"IDEAL POSITION\")\n",
    "my_pose.display_img([5,5],\"TEST IMAGE\")"
   ]
  },
  {
   "cell_type": "code",
   "execution_count": null,
   "metadata": {},
   "outputs": [],
   "source": [
    "cap = cv2.VideoCapture(0)\n",
    "while cap.isOpened():\n",
    "    success, frame = cap.read()\n",
    "    pose_name = \"No pose detected\"\n",
    "\n",
    "    if success:\n",
    "        img = cv2.cvtColor(frame, cv2.COLOR_BGR2RGB)\n",
    "\n",
    "        results = pose.process(img)\n",
    "\n",
    "        if results.pose_landmarks:\n",
    "            # \n",
    "            \n",
    "\n",
    "            # draw the landmarks\n",
    "            mp_drawing.draw_landmarks(\n",
    "                image=img,\n",
    "                landmark_list=results.pose_landmarks,\n",
    "                connections=mp_pose.POSE_CONNECTIONS,\n",
    "            )\n",
    "\n",
    "            # make the final image equal to the image we drew on\n",
    "            frame = cv2.cvtColor(img, cv2.COLOR_RGB2BGR)\n",
    "\n",
    "    cv2.putText(frame, pose_name, (5, 20), cv2.FONT_HERSHEY_COMPLEX, 1, (255, 0, 0), 2)\n",
    "    cv2.imshow(\"webcam feed\", frame)\n",
    "\n",
    "    if cv2.waitKey(10) & 0xFF == ord(\"q\"):\n",
    "        break\n",
    "\n",
    "\n",
    "cap.release()\n",
    "cv2.destroyAllWindows()"
   ]
  }
 ],
 "metadata": {
  "kernelspec": {
   "display_name": ".venv",
   "language": "python",
   "name": "python3"
  },
  "language_info": {
   "name": "python",
   "version": "3.9.0"
  },
  "orig_nbformat": 4
 },
 "nbformat": 4,
 "nbformat_minor": 2
}
