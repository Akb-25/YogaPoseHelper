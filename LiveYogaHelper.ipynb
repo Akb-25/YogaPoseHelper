{
 "cells": [
  {
   "cell_type": "code",
   "execution_count": 1,
   "metadata": {},
   "outputs": [],
   "source": [
    "import mediapipe as mp\n",
    "import cv2\n",
    "import pandas as pd\n",
    "import numpy as np\n",
    "from tkinter import *\n",
    "from PIL import Image,ImageTk\n",
    "\n",
    "import csv\n",
    "import os\n",
    "\n",
    "from app.core.PoseHelper import PoseHelper\n",
    "from app.core.SugesstionBuilder import SuggestionBuilder\n",
    "import time"
   ]
  },
  {
   "cell_type": "code",
   "execution_count": 2,
   "metadata": {},
   "outputs": [],
   "source": [
    "poses = []\n",
    "names = []\n",
    "images = []"
   ]
  },
  {
   "cell_type": "code",
   "execution_count": 3,
   "metadata": {},
   "outputs": [],
   "source": [
    "mp_drawing = mp.solutions.drawing_utils\n",
    "mp_pose = mp.solutions.pose\n",
    "pose = mp_pose.Pose(\n",
    "    static_image_mode=False, min_detection_confidence=0.2, model_complexity=2\n",
    ")"
   ]
  },
  {
   "cell_type": "code",
   "execution_count": 4,
   "metadata": {},
   "outputs": [],
   "source": [
    "suggester = SuggestionBuilder(mp_pose)\n",
    "window = Tk()"
   ]
  },
  {
   "cell_type": "code",
   "execution_count": 5,
   "metadata": {},
   "outputs": [
    {
     "name": "stdout",
     "output_type": "stream",
     "text": [
      "c:\\Users\\25bak\\OneDrive\\Desktop\\Python\\Python Projects\\Yoga\\YogaPoseHelper\n",
      "['01.pranamasana.jpg', '02.hastauttasana.jpg', '03.padasana.jpg', '04.ashwasanchalanasana.jpg', '05.chaturangadandasana.jpg', '06.astanganamaskara.jpg', '07.bhujangasana.jpg', '08.parvatasana.jpg', '09.ashwasanchalanasana.jpg', '10.padasana.jpg', '11.hastauttasana.jpg', '12.pranamasana.jpg']\n"
     ]
    }
   ],
   "source": [
    "import os\n",
    "\n",
    "print(os.getcwd())\n",
    "for pose_name in os.listdir(\"app/data/suryanamaskarsteps/\"):\n",
    "        names.append(pose_name)\n",
    "names.sort()\n",
    "for i in range(len(names)):\n",
    "        pose_dir_path = os.path.join(\"app/data/suryanamaskarsteps/\", names[i])\n",
    "        step = PoseHelper(pose_dir_path,mp_pose=mp_pose,pose=pose,mp_drawing=mp_drawing)\n",
    "        step.detect_keypoints(verbose=False)\n",
    "        step.calculate_angles()\n",
    "        poses.append(step)\n",
    "        \n",
    "        img = Image.open(pose_dir_path)\n",
    "        w,h = img.size\n",
    "\n",
    "        images.append(ImageTk.PhotoImage(img.resize((500,int(h*500/w)))))#)cv2.imread(pose_dir_path))\n",
    "print(names)\n"
   ]
  },
  {
   "cell_type": "code",
   "execution_count": 6,
   "metadata": {},
   "outputs": [],
   "source": [
    "# pose_index = 0 # next pose index\n",
    "# while pose_index<12:\n",
    "#     ideal = poses[pose_index]\n",
    "#     ideal_arms_and_angles = ideal.arms_and_angles\n",
    "#     pose_name = names[pose_index]\n",
    "#     ideal.plot_keypoints2d()\n",
    "#     pose_index+=1"
   ]
  },
  {
   "cell_type": "code",
   "execution_count": 7,
   "metadata": {},
   "outputs": [
    {
     "data": {
      "text/plain": [
       "<PIL.ImageTk.PhotoImage at 0x267a5fbc430>"
      ]
     },
     "execution_count": 7,
     "metadata": {},
     "output_type": "execute_result"
    }
   ],
   "source": [
    "images[0]"
   ]
  },
  {
   "cell_type": "code",
   "execution_count": 8,
   "metadata": {},
   "outputs": [
    {
     "ename": "KeyboardInterrupt",
     "evalue": "",
     "output_type": "error",
     "traceback": [
      "\u001b[1;31m---------------------------------------------------------------------------\u001b[0m",
      "\u001b[1;31mKeyboardInterrupt\u001b[0m                         Traceback (most recent call last)",
      "\u001b[1;32m~\\AppData\\Local\\Temp\\ipykernel_27792\\51172908.py\u001b[0m in \u001b[0;36m<module>\u001b[1;34m\u001b[0m\n\u001b[0;32m     36\u001b[0m     \u001b[0mwindow\u001b[0m\u001b[1;33m.\u001b[0m\u001b[0mgrid_columnconfigure\u001b[0m\u001b[1;33m(\u001b[0m\u001b[1;36m0\u001b[0m\u001b[1;33m,\u001b[0m \u001b[0mweight\u001b[0m\u001b[1;33m=\u001b[0m\u001b[1;36m1\u001b[0m\u001b[1;33m)\u001b[0m\u001b[1;33m\u001b[0m\u001b[1;33m\u001b[0m\u001b[0m\n\u001b[0;32m     37\u001b[0m     \u001b[0mwindow\u001b[0m\u001b[1;33m.\u001b[0m\u001b[0mgrid_columnconfigure\u001b[0m\u001b[1;33m(\u001b[0m\u001b[1;36m1\u001b[0m\u001b[1;33m,\u001b[0m \u001b[0mweight\u001b[0m\u001b[1;33m=\u001b[0m\u001b[1;36m1\u001b[0m\u001b[1;33m)\u001b[0m\u001b[1;33m\u001b[0m\u001b[1;33m\u001b[0m\u001b[0m\n\u001b[1;32m---> 38\u001b[1;33m     \u001b[0mtime\u001b[0m\u001b[1;33m.\u001b[0m\u001b[0msleep\u001b[0m\u001b[1;33m(\u001b[0m\u001b[1;36m5\u001b[0m\u001b[1;33m)\u001b[0m\u001b[1;33m\u001b[0m\u001b[1;33m\u001b[0m\u001b[0m\n\u001b[0m",
      "\u001b[1;31mKeyboardInterrupt\u001b[0m: "
     ]
    }
   ],
   "source": [
    "# GUI Code\n",
    "\n",
    "window.title(\"Pose Helper\")\n",
    "window.state('zoomed')\n",
    "\n",
    "#text box\n",
    "text_label1 = Label(window,text=\"Ideal Pose\",font=(\"Arial\",30),bg=\"white\")\n",
    "text_label1.grid(column=0,row=0, sticky=\"nsew\")\n",
    "\n",
    "text_label2 = Label(window,text=\"Live Video\",font=(\"Arial\",30),bg=\"white\")\n",
    "text_label2.grid(column=1,row=0, sticky=\"nsew\")\n",
    "index=0\n",
    "while index<12:\n",
    "\n",
    "    #img_label_frame=Frame(window,height=200,width=200)\n",
    "    img_label = Label(window,image=images[index],width=200,height=200)\n",
    "    img_label.grid(row=1,column=0, sticky=\"nsew\")\n",
    "\n",
    "    live_video_label = Label(window,image=images[index],width=200,height=300)\n",
    "    live_video_label.grid(row=1,column=1, sticky=\"nsew\")\n",
    "\n",
    "\n",
    "    # create a frame with fixed size\n",
    "    frame = Frame(window, height=200, width=900)\n",
    "    frame.pack_propagate(0) # don't shrink or expand\n",
    "    frame.grid(row=2, column=0, columnspan=2)\n",
    "\n",
    "    suggestions_label = Label(frame,text=\"suggestions\\n1\\n2\",anchor='n',bg='white',font=(\"Arial\",20))\n",
    "    suggestions_label.pack(fill=BOTH, expand=1) # fill the frame\n",
    "\n",
    "\n",
    "\n",
    "    window.grid_rowconfigure(0, weight=1)\n",
    "    window.grid_rowconfigure(1, weight=1)\n",
    "    # window.grid_rowconfigure(2, weight=2)\n",
    "    window.grid_columnconfigure(0, weight=1)\n",
    "    window.grid_columnconfigure(1, weight=1)\n",
    "    time.sleep(5)"
   ]
  },
  {
   "cell_type": "code",
   "execution_count": null,
   "metadata": {},
   "outputs": [],
   "source": [
    "# TODO - make seperate thread for tts so it doesn't block main execution\n",
    "# import pyttsx3\n",
    "\n",
    "# def speak_text(text: str):\n",
    "#     engine = pyttsx3.init()\n",
    "#     engine.say(text)\n",
    "#     engine.runAndWait()\n",
    "#     return engine\n"
   ]
  },
  {
   "cell_type": "code",
   "execution_count": null,
   "metadata": {},
   "outputs": [],
   "source": [
    "# from playsound import playsound\n",
    "# playsound(\"C:\\\\Projects\\\\YogaPoseHelper\\\\app\\\\media\\\\sound\\\\beep.mp3\")\n",
    "# speak_text(\"hello\")"
   ]
  },
  {
   "cell_type": "code",
   "execution_count": null,
   "metadata": {},
   "outputs": [],
   "source": [
    "# speak_text(\"pranamasana\")\n"
   ]
  },
  {
   "cell_type": "code",
   "execution_count": null,
   "metadata": {},
   "outputs": [],
   "source": [
    "cap = cv2.VideoCapture(0)"
   ]
  },
  {
   "cell_type": "code",
   "execution_count": null,
   "metadata": {},
   "outputs": [
    {
     "data": {
      "text/plain": [
       "''"
      ]
     },
     "execution_count": 13,
     "metadata": {},
     "output_type": "execute_result"
    }
   ],
   "source": [
    "quit = False\n",
    "def quit_func(*args):\n",
    "    global quit\n",
    "    quit = True\n",
    "    print(\"quitting\")\n",
    "    cap.release()\n",
    "    window.destroy()\n",
    "window.bind(\"q\",quit_func)\n",
    "window.protocol(\"WM_DELETE_WINDOW\",quit_func)"
   ]
  },
  {
   "cell_type": "code",
   "execution_count": null,
   "metadata": {},
   "outputs": [],
   "source": [
    "angle_error_threshold = 25"
   ]
  },
  {
   "cell_type": "code",
   "execution_count": null,
   "metadata": {},
   "outputs": [
    {
     "name": "stdout",
     "output_type": "stream",
     "text": [
      "1698109268.7949162\n",
      "quitting\n"
     ]
    }
   ],
   "source": [
    "from app.core.graphics.graphics_assistant import draw_error_landmarks_2d\n",
    "\n",
    "\n",
    "n = len(poses)\n",
    "start_time = time.time() - 6\n",
    "print(start_time)\n",
    "pose_index = -1\n",
    "\n",
    "\n",
    "def update_live():\n",
    "    global quit, start_time, pose_index, poses, n, images, names, ideal_arms_and_angles, live_video_label, cap, pose_name, img_label\n",
    "    if cap.isOpened():\n",
    "        success, frame = cap.read()\n",
    "        # print(success)\n",
    "        end_time = time.time()\n",
    "        # if end_time - start_time >= 6:\n",
    "        #     pose_index += 1\n",
    "        #     start_time = end_time\n",
    "        #     ideal = poses[pose_index % n]\n",
    "        #     ideal_arms_and_angles = ideal.arms_and_angles\n",
    "        #     pose_name = names[pose_index % n]\n",
    "\n",
    "        #     img_label.configure(image=images[pose_index % n])\n",
    "        #     img_label.image = images[pose_index % n]\n",
    "        # playsound(\"app/media/sound/beep.mp3\")\n",
    "        # engine = speak_text(pose_name.split(\".\")[1])\n",
    "\n",
    "        if success:\n",
    "            frame = cv2.cvtColor(frame, cv2.COLOR_BGR2RGB)\n",
    "            results = pose.process(frame)\n",
    "\n",
    "            if results.pose_landmarks:\n",
    "                helper = PoseHelper(\n",
    "                    img=frame, mp_pose=mp_pose, pose=pose, mp_drawing=mp_drawing\n",
    "                )\n",
    "                helper.detect_keypoints(verbose=False)\n",
    "                helper.calculate_angles()\n",
    "                arms_and_angles = helper.arms_and_angles\n",
    "                n = 33 #len(arms_and_angles)\n",
    "                arms_and_angles_diff = PoseHelper.calculate_angle_differences(\n",
    "                    ideal_arms_and_angles, arms_and_angles, n\n",
    "                )\n",
    "\n",
    "                suggestion_text = suggester.get_suggestions(arms_and_angles_diff,angle_error_threshold=angle_error_threshold)\n",
    "                suggestions_label.configure(text=suggestion_text)\n",
    "\n",
    "                # draw the landmarks\n",
    "                \n",
    "                draw_error_landmarks_2d(\n",
    "                    arms_and_angles_diff=arms_and_angles_diff,\n",
    "                    img=frame,\n",
    "                    landmark_list=results.pose_landmarks,\n",
    "                    pronounce_error_by=5,\n",
    "                    connections=mp_pose.POSE_CONNECTIONS,\n",
    "                    verbose=False,\n",
    "                )\n",
    "\n",
    "            # convert back to bgr\n",
    "            # frame = cv2.cvtColor(frame, cv2.COLOR_RGB2BGR)\n",
    "\n",
    "            # put the pose name on the image\n",
    "            cv2.putText(\n",
    "                frame, pose_name, (5, 20), cv2.FONT_HERSHEY_COMPLEX, 1, (255, 0, 0), 2\n",
    "            )\n",
    "\n",
    "            live_img = ImageTk.PhotoImage(Image.fromarray(frame))\n",
    "            live_video_label.configure(image=live_img)\n",
    "            live_video_label.image = live_img\n",
    "\n",
    "    window.update()  # to refresh the window\n",
    "\n",
    "    window.after(\n",
    "        10, update_live\n",
    "    )  # to add our custom update function to the queue to be executed\n",
    "\n",
    "\n",
    "update_live()\n",
    "window.mainloop()"
   ]
  }
 ],
 "metadata": {
  "kernelspec": {
   "display_name": "Python 3",
   "language": "python",
   "name": "python3"
  },
  "language_info": {
   "codemirror_mode": {
    "name": "ipython",
    "version": 3
   },
   "file_extension": ".py",
   "mimetype": "text/x-python",
   "name": "python",
   "nbconvert_exporter": "python",
   "pygments_lexer": "ipython3",
   "version": "3.9.13"
  },
  "orig_nbformat": 4,
  "vscode": {
   "interpreter": {
    "hash": "1a1af0ee75eeea9e2e1ee996c87e7a2b11a0bebd85af04bb136d915cefc0abce"
   }
  }
 },
 "nbformat": 4,
 "nbformat_minor": 2
}
